{
  "cells": [
    {
      "cell_type": "code",
      "execution_count": null,
      "metadata": {
        "id": "yU5hLxdF25Oj",
        "colab": {
          "base_uri": "https://localhost:8080/",
          "height": 500,
          "referenced_widgets": [
            "d42fd16f2719441c9e8860e0e2b427f6"
          ]
        },
        "outputId": "53445dcb-7cfb-4d34-abdc-7bb87e0eb440"
      },
      "outputs": [
        {
          "output_type": "display_data",
          "data": {
            "text/plain": [
              "Loading pipeline components...:   0%|          | 0/7 [00:00<?, ?it/s]"
            ],
            "application/vnd.jupyter.widget-view+json": {
              "version_major": 2,
              "version_minor": 0,
              "model_id": "d42fd16f2719441c9e8860e0e2b427f6"
            }
          },
          "metadata": {}
        },
        {
          "output_type": "stream",
          "name": "stdout",
          "text": [
            "Requirement already satisfied: matplotlib in /usr/local/lib/python3.10/dist-packages (3.7.1)\n",
            "Requirement already satisfied: contourpy>=1.0.1 in /usr/local/lib/python3.10/dist-packages (from matplotlib) (1.2.0)\n",
            "Requirement already satisfied: cycler>=0.10 in /usr/local/lib/python3.10/dist-packages (from matplotlib) (0.12.1)\n",
            "Requirement already satisfied: fonttools>=4.22.0 in /usr/local/lib/python3.10/dist-packages (from matplotlib) (4.46.0)\n",
            "Requirement already satisfied: kiwisolver>=1.0.1 in /usr/local/lib/python3.10/dist-packages (from matplotlib) (1.4.5)\n",
            "Requirement already satisfied: numpy>=1.20 in /usr/local/lib/python3.10/dist-packages (from matplotlib) (1.23.5)\n",
            "Requirement already satisfied: packaging>=20.0 in /usr/local/lib/python3.10/dist-packages (from matplotlib) (23.2)\n",
            "Requirement already satisfied: pillow>=6.2.0 in /usr/local/lib/python3.10/dist-packages (from matplotlib) (9.4.0)\n",
            "Requirement already satisfied: pyparsing>=2.3.1 in /usr/local/lib/python3.10/dist-packages (from matplotlib) (3.1.1)\n",
            "Requirement already satisfied: python-dateutil>=2.7 in /usr/local/lib/python3.10/dist-packages (from matplotlib) (2.8.2)\n",
            "Requirement already satisfied: six>=1.5 in /usr/local/lib/python3.10/dist-packages (from python-dateutil>=2.7->matplotlib) (1.16.0)\n",
            "Requirement already satisfied: Image in /usr/local/lib/python3.10/dist-packages (1.5.33)\n",
            "Requirement already satisfied: pytesseract in /usr/local/lib/python3.10/dist-packages (0.3.10)\n",
            "Requirement already satisfied: pillow in /usr/local/lib/python3.10/dist-packages (from Image) (9.4.0)\n",
            "Requirement already satisfied: django in /usr/local/lib/python3.10/dist-packages (from Image) (5.0)\n",
            "Requirement already satisfied: six in /usr/local/lib/python3.10/dist-packages (from Image) (1.16.0)\n",
            "Requirement already satisfied: packaging>=21.3 in /usr/local/lib/python3.10/dist-packages (from pytesseract) (23.2)\n",
            "Requirement already satisfied: asgiref>=3.7.0 in /usr/local/lib/python3.10/dist-packages (from django->Image) (3.7.2)\n",
            "Requirement already satisfied: sqlparse>=0.3.1 in /usr/local/lib/python3.10/dist-packages (from django->Image) (0.4.4)\n",
            "Requirement already satisfied: typing-extensions>=4 in /usr/local/lib/python3.10/dist-packages (from asgiref>=3.7.0->django->Image) (4.5.0)\n",
            "Requirement already satisfied: Image in /usr/local/lib/python3.10/dist-packages (1.5.33)\n",
            "Requirement already satisfied: pillow in /usr/local/lib/python3.10/dist-packages (from Image) (9.4.0)\n",
            "Requirement already satisfied: django in /usr/local/lib/python3.10/dist-packages (from Image) (5.0)\n",
            "Requirement already satisfied: six in /usr/local/lib/python3.10/dist-packages (from Image) (1.16.0)\n",
            "Requirement already satisfied: asgiref>=3.7.0 in /usr/local/lib/python3.10/dist-packages (from django->Image) (3.7.2)\n",
            "Requirement already satisfied: sqlparse>=0.3.1 in /usr/local/lib/python3.10/dist-packages (from django->Image) (0.4.4)\n",
            "Requirement already satisfied: typing-extensions>=4 in /usr/local/lib/python3.10/dist-packages (from asgiref>=3.7.0->django->Image) (4.5.0)\n"
          ]
        }
      ],
      "source": [
        "#stable diffusion and all installations\n",
        "\n",
        "\n",
        "!pip install invisible_watermark transformers accelerate safetensors\n",
        "!pip install diffusers\n",
        "from diffusers import DiffusionPipeline\n",
        "import torch\n",
        "!pip install accelerate\n",
        "# Load the model and set the device to CUDA\n",
        "pipe = DiffusionPipeline.from_pretrained(\n",
        "    \"stabilityai/stable-diffusion-xl-base-1.0\",\n",
        "    torch_dtype=torch.float16,\n",
        "    use_safetensors=True,\n",
        "    variant=\"fp16\"\n",
        ")\n",
        "pipe.to(\"cuda\")\n",
        "!pip install matplotlib\n",
        "!pip install Image pytesseract\n",
        "!pip install Image\n",
        "from PIL import Image"
      ]
    },
    {
      "cell_type": "code",
      "execution_count": null,
      "metadata": {
        "id": "RQuNZSw8pTeV",
        "colab": {
          "base_uri": "https://localhost:8080/"
        },
        "outputId": "12340031-f22c-42da-ac2f-966b75f8dae0"
      },
      "outputs": [
        {
          "output_type": "stream",
          "name": "stdout",
          "text": [
            "Collecting pydub\n",
            "  Downloading pydub-0.25.1-py2.py3-none-any.whl (32 kB)\n",
            "Installing collected packages: pydub\n",
            "Successfully installed pydub-0.25.1\n"
          ]
        }
      ],
      "source": [
        "!pip install pydub"
      ]
    },
    {
      "cell_type": "code",
      "execution_count": null,
      "metadata": {
        "id": "adnerdFL3vBJ"
      },
      "outputs": [],
      "source": [
        "#voice generation and deciding frame rate for each prompt\n",
        "\n",
        "! pip install moviepy\n",
        "!pip install gTTS\n",
        "\n"
      ]
    },
    {
      "cell_type": "code",
      "execution_count": null,
      "metadata": {
        "id": "kKhvwX-y3dqb",
        "colab": {
          "base_uri": "https://localhost:8080/",
          "height": 230,
          "referenced_widgets": [
            "3c3e59a4d66e4cb0ba0db229a76c1eb8",
            "ebfcb1d484c8482b93f4c3244a514178",
            "0024fadae8904f62ba6010f298d26d7c",
            "7c55632a5857427395d9be5dfbfea767",
            "59b4276988954e8a8ba58035c4661f35",
            "9d93e31098324172bade149bd642e98e",
            "6eb3cc4235c24159b34f63dc44d88808",
            "28f84369a9fd46f7ace228ba830f9ec3",
            "c88d183a836540edb61caa080324a9b0",
            "f5383d1a75794474950c295262e9eb87",
            "98bda44a759845119438004a43d3e230",
            "284bdcb12dc041609cf766364a75a5c0",
            "403177b20761411ea93f713ebdb3a67f",
            "ddffa1a1922d4fe99c454319a0878799",
            "ba25940968124cacad76ceed5aed49da",
            "be1e0513920f4f6cb2541edc417c9835",
            "fb33c0d4aaf2411fb6c219627c3f1644",
            "a8ba55215be8478cbca7c24aed6d448e",
            "b9508b99d1a24750adf567e0fd412e5f",
            "a513247311ff40ffbfc0d5499a0e4fdf",
            "d0a83f1cc6ec45d5b39149ddd1be5372",
            "fefb00bb3ffe45889a7eddf2507b15d9",
            "f62f885f010d416890d5f2371d0abb8a",
            "a061eda08b87456a9c52e62d64bd5717",
            "90d97cf415584b168a9d0c256590a9e9",
            "3df9179bc79742dd8db743289ca22d5d",
            "ff1a5f013479405a9dd2e3d2079e47f3",
            "e6ae9294ed9447e7bbc3da7e7d56f3c0",
            "db296e2a5bf444159e37c8b87b21a078",
            "a2015020683744f3bff66c1809a195a0",
            "deb6fda4f49e4052ad736691edd49bda",
            "3b79c495321540e38b92a23e35b081d6",
            "a77cfb15dbd3494295dfa1ea3a1e0bc9",
            "8a77286f7b6e4e238e16c4c0a1a59973",
            "056737ddb15c4640a5413465c9cb0d40",
            "5b77a2158bda4f5b853391cf9d863b99",
            "4f925eb887754ff7b582e3cd6885c970",
            "39726c313bce4b4791677fe768d13372",
            "4cd5a042dd554f08a886a23f5650d531",
            "c697b4c86ae74d56b46c64be0b7e9ec9",
            "7f52fda5227d4bc6b6c0dcd50923f416",
            "e5037fa99928462fbf06a7835018e2e4",
            "369e9a86d73b4bb296d5bc013ae1ac19",
            "fb940a6c7c444bab91f1db3de3d9c83f",
            "3eb9b73b764240c2a73f15f79d226c6f",
            "d2ef02cab4ba4db29a85d84c7d207d10",
            "87c3b76825a8427fbce957f0e741acc3",
            "1a847c02218040b3bac33ef5b2db3199",
            "ea6da11efa3747548a8db1e292cdba6b",
            "bb03b630e17c4db895e932182865f196",
            "239034c7d79f46edbf755b3de1f067da",
            "2c55e6f08411430c83babba09795db29",
            "e069556aeede49cbbed4b121a6f3bf67",
            "a998efc97eb2422ca60450bb9f58aba8",
            "3ebab1711f04427486d10655d90f02f7"
          ]
        },
        "outputId": "081cb80c-357f-41ec-f84f-3cd99a67a7bf"
      },
      "outputs": [
        {
          "output_type": "stream",
          "name": "stderr",
          "text": [
            "No model was supplied, defaulted to sshleifer/distilbart-cnn-12-6 and revision a4f8f3e (https://huggingface.co/sshleifer/distilbart-cnn-12-6).\n",
            "Using a pipeline without specifying a model name and revision in production is not recommended.\n"
          ]
        },
        {
          "output_type": "display_data",
          "data": {
            "text/plain": [
              "config.json:   0%|          | 0.00/1.80k [00:00<?, ?B/s]"
            ],
            "application/vnd.jupyter.widget-view+json": {
              "version_major": 2,
              "version_minor": 0,
              "model_id": "3c3e59a4d66e4cb0ba0db229a76c1eb8"
            }
          },
          "metadata": {}
        },
        {
          "output_type": "display_data",
          "data": {
            "text/plain": [
              "pytorch_model.bin:   0%|          | 0.00/1.22G [00:00<?, ?B/s]"
            ],
            "application/vnd.jupyter.widget-view+json": {
              "version_major": 2,
              "version_minor": 0,
              "model_id": "284bdcb12dc041609cf766364a75a5c0"
            }
          },
          "metadata": {}
        },
        {
          "output_type": "display_data",
          "data": {
            "text/plain": [
              "tokenizer_config.json:   0%|          | 0.00/26.0 [00:00<?, ?B/s]"
            ],
            "application/vnd.jupyter.widget-view+json": {
              "version_major": 2,
              "version_minor": 0,
              "model_id": "f62f885f010d416890d5f2371d0abb8a"
            }
          },
          "metadata": {}
        },
        {
          "output_type": "display_data",
          "data": {
            "text/plain": [
              "vocab.json:   0%|          | 0.00/899k [00:00<?, ?B/s]"
            ],
            "application/vnd.jupyter.widget-view+json": {
              "version_major": 2,
              "version_minor": 0,
              "model_id": "8a77286f7b6e4e238e16c4c0a1a59973"
            }
          },
          "metadata": {}
        },
        {
          "output_type": "display_data",
          "data": {
            "text/plain": [
              "merges.txt:   0%|          | 0.00/456k [00:00<?, ?B/s]"
            ],
            "application/vnd.jupyter.widget-view+json": {
              "version_major": 2,
              "version_minor": 0,
              "model_id": "3eb9b73b764240c2a73f15f79d226c6f"
            }
          },
          "metadata": {}
        }
      ],
      "source": [
        "# summarizers\n",
        "!pip install transformers\n",
        "from transformers import pipeline\n",
        "summarizer=pipeline(\"summarization\")"
      ]
    },
    {
      "cell_type": "code",
      "execution_count": null,
      "metadata": {
        "id": "qzHsC5oB3grB",
        "colab": {
          "base_uri": "https://localhost:8080/"
        },
        "outputId": "d1234ccf-fdc6-406e-f066-d4826df61893"
      },
      "outputs": [
        {
          "output_type": "stream",
          "name": "stdout",
          "text": [
            "[{'summary_text': \" India face Afghanistan in the men's Asian Games men's cricket final . Afghanistan stunned Pakistan in the semi-final to advance to their maiden final . The last two times cricket was a part of the Games, India did not participate . Afghanistan have the most experienced side in this men's tournament .\"}]\n",
            "<class 'list'>\n",
            " India face Afghanistan in the men's Asian Games men's cricket final . Afghanistan stunned Pakistan in the semi-final to advance to their maiden final . The last two times cricket was a part of the Games, India did not participate . Afghanistan have the most experienced side in this men's tournament .\n"
          ]
        },
        {
          "output_type": "execute_result",
          "data": {
            "text/plain": [
              "[\" India face Afghanistan in the men's Asian Games men's cricket final \",\n",
              " ' Afghanistan stunned Pakistan in the semi-final to advance to their maiden final ',\n",
              " ' The last two times cricket was a part of the Games, India did not participate ',\n",
              " \" Afghanistan have the most experienced side in this men's tournament \"]"
            ]
          },
          "metadata": {},
          "execution_count": 4
        }
      ],
      "source": [
        "text=\"\"\"\n",
        "India vs Afghanistan Live Score Asian Games Final: Ravi Bishnoi, Shahbaz send AFG 5 down in gold medal bout.\n",
        "The women's team did it, now can the men's team replicate it? Ruturaj Gaikwad would surely believe his side can\n",
        "win the first-ever gold medal for India in men's cricket. It won't be easy though as they will face an experienced Afghanistan\n",
        "side in the final today. Led by Gulbadin Naib, Afghanistan stunned Pakistan in the semi-final to advance to their maiden final.\n",
        "In Mohammad Shahzad, Noor Ali Zadran, and Karim Janat, Zahir Khan and Qais Ahmed, Afghanistan have the most experienced side\n",
        "in this men's Asian Games. India vs Afghanistan Live Score Asian Games Final India vs Afghanistan Live Score Asian Games Final(PTI)\n",
        " India have so far displayed dominant performances on their Asian Games debut in cricket. Remember, the last two times cricket was\n",
        " a part of the Games, India did not participate. In this edition, however, the Indian cricketers have set the stage on fire.\n",
        " India beat Nepal in the quarterfinal - they had got a direct entry into the last 8 due to their higher rankings.\n",
        " Yashasvi Jaiswal scored a century to lead India to 202/4 but the bowlers let Nepal score 179, which would have gone down\n",
        " well with coach VVS Laxman. In the semi-final, India came up with a revised strategy and it did wonders.\n",
        "\"\"\"\n",
        "a=summarizer(text,max_length=100,min_length=50,do_sample=False)\n",
        "print(a)\n",
        "\n",
        "print(type(a))\n",
        "b=a[0]\n",
        "x=b['summary_text']\n",
        "print(x)\n",
        "f=x.split('.')\n",
        "f.pop()\n",
        "f"
      ]
    },
    {
      "cell_type": "code",
      "source": [
        "y=f"
      ],
      "metadata": {
        "id": "F5n-H-h-vd9m"
      },
      "execution_count": null,
      "outputs": []
    },
    {
      "cell_type": "code",
      "execution_count": null,
      "metadata": {
        "colab": {
          "base_uri": "https://localhost:8080/"
        },
        "id": "gRHhY1lI3o-b",
        "outputId": "5bf8d096-ad24-44d8-b7aa-97172ab6ed7e"
      },
      "outputs": [
        {
          "output_type": "stream",
          "name": "stdout",
          "text": [
            "[' Dasara Shopping Bonanza festival launched in Hyderabad.', ' Festival held between October 9-18.', ' Lighting of lamp ceremony at Kun Hyundai showroom marks the launch.', ' Participants include Raman Bhatia, Zonal Business Head, Hyundai Motor India Ltd (HMIL), Kwan Hee Han, Zonal Co-ordinator, HMIL, etc.', ' Festival aims to provide a platform for shopping during Dasara.', ' Event features discounts, offers, and promotions on various products.', ' Participating dealerships include Kun Hyundai showroom.']\n",
            " Dasara Shopping Bonanza festival launched in Hyderabad. Festival held between October 9-18. Lighting of lamp ceremony at Kun Hyundai showroom marks the launch. Participants include Raman Bhatia, Zonal Business Head, Hyundai Motor India Ltd (HMIL), Kwan Hee Han, Zonal Co-ordinator, HMIL, etc. Festival aims to provide a platform for shopping during Dasara. Event features discounts, offers, and promotions on various products. Participating dealerships include Kun Hyundai showroom.\n"
          ]
        }
      ],
      "source": [
        "\n",
        "# print(type(a))\n",
        "# b=a[0]\n",
        "# x=b['summary_text']\n",
        "# print(x)\n",
        "y=[' Dasara Shopping Bonanza festival launched in Hyderabad.', ' Festival held between October 9-18.', ' Lighting of lamp ceremony at Kun Hyundai showroom marks the launch.', ' Participants include Raman Bhatia, Zonal Business Head, Hyundai Motor India Ltd (HMIL), Kwan Hee Han, Zonal Co-ordinator, HMIL, etc.', ' Festival aims to provide a platform for shopping during Dasara.', ' Event features discounts, offers, and promotions on various products.', ' Participating dealerships include Kun Hyundai showroom.']\n",
        "# print(y)\n",
        "\n",
        "# y.pop()\n",
        "print(y)\n",
        "h= ''.join(y)\n",
        "print(h)"
      ]
    },
    {
      "cell_type": "code",
      "execution_count": null,
      "metadata": {
        "colab": {
          "base_uri": "https://localhost:8080/"
        },
        "id": "wufbEOsRdx_x",
        "outputId": "6926ac8d-ddf6-4f8b-923a-a19322e13290"
      },
      "outputs": [
        {
          "output_type": "stream",
          "name": "stdout",
          "text": [
            "4\n"
          ]
        }
      ],
      "source": [
        "print(len(y))"
      ]
    },
    {
      "cell_type": "code",
      "execution_count": null,
      "metadata": {
        "id": "1wWyu2wt3w3a"
      },
      "outputs": [],
      "source": [
        "# iteratively calling function to generate images\n",
        "\n",
        "\n",
        "\n",
        "images = []\n",
        "def generate_image(prompt):\n",
        "\n",
        "    image = pipe(prompt=prompt).images[0]\n",
        "    return image\n",
        "\n",
        "\n",
        "for prompt in y:\n",
        "    for j in range(2):\n",
        "      generated_image = generate_image(prompt)\n",
        "      images.append(generated_image)\n",
        "\n",
        "\n"
      ]
    },
    {
      "cell_type": "code",
      "execution_count": null,
      "metadata": {
        "colab": {
          "base_uri": "https://localhost:8080/"
        },
        "id": "Z9t5DbwUqtGs",
        "outputId": "6ef537f0-023a-4214-ea03-3790b926395e"
      },
      "outputs": [
        {
          "output_type": "stream",
          "name": "stdout",
          "text": [
            "[4.392, 3.912, 5.16, 15.0, 4.872, 5.832, 4.608]\n"
          ]
        }
      ],
      "source": [
        "#list of length of audios\n",
        "from pydub import AudioSegment\n",
        "from gtts import gTTS\n",
        "import time\n",
        "import random\n",
        "import math\n",
        "la=[]\n",
        "aud=[]\n",
        "def aa(g):\n",
        "\n",
        "  timestamp = int(time.time())  # Get the current timestamp\n",
        "  random_number = random.randint(1, 1000)  # Generate a random number\n",
        "\n",
        "\n",
        "  text = g\n",
        "  min_duration = 10\n",
        "  min_characters = int(min_duration * 1000)\n",
        "  text = text[:min_characters]\n",
        "  tts = gTTS(text)\n",
        "  tts.save(f'output_audio_{timestamp}_{random_number}.mp3')\n",
        "  output_audio_file = f'output_audio_{timestamp}_{random_number}.mp3'\n",
        "  audio = AudioSegment.from_mp3(output_audio_file)\n",
        "  audio_duration_ms = len(audio)\n",
        "  a=audio_duration_ms / 1000\n",
        "  aud.append(output_audio_file)\n",
        "  return a\n",
        "\n",
        "for i in y:\n",
        "  x=aa(i)\n",
        "  la.append(x)\n",
        "print(la)\n"
      ]
    },
    {
      "cell_type": "code",
      "execution_count": null,
      "metadata": {
        "colab": {
          "base_uri": "https://localhost:8080/"
        },
        "id": "C5xcZSVWyVMO",
        "outputId": "e39e5041-c978-4ade-d1c0-1e9241968d97"
      },
      "outputs": [
        {
          "output_type": "stream",
          "name": "stdout",
          "text": [
            "[<PIL.Image.Image image mode=RGB size=1024x1024 at 0x7D4DE93A6290>, <PIL.Image.Image image mode=RGB size=1024x1024 at 0x7D4D67F029E0>, <PIL.Image.Image image mode=RGB size=1024x1024 at 0x7D4D67F03070>, <PIL.Image.Image image mode=RGB size=1024x1024 at 0x7D4D67F02B60>, <PIL.Image.Image image mode=RGB size=1024x1024 at 0x7D4D407E9750>, <PIL.Image.Image image mode=RGB size=1024x1024 at 0x7D4D4030E8F0>, <PIL.Image.Image image mode=RGB size=1024x1024 at 0x7D4D407EA2C0>, <PIL.Image.Image image mode=RGB size=1024x1024 at 0x7D4D4034AC80>, <PIL.Image.Image image mode=RGB size=1024x1024 at 0x7D4D407E8EE0>, <PIL.Image.Image image mode=RGB size=1024x1024 at 0x7D4D4034BA60>, <PIL.Image.Image image mode=RGB size=1024x1024 at 0x7D4D4034B460>, <PIL.Image.Image image mode=RGB size=1024x1024 at 0x7D4D403F4D90>, <PIL.Image.Image image mode=RGB size=1024x1024 at 0x7D4D403F5C30>, <PIL.Image.Image image mode=RGB size=1024x1024 at 0x7D4D403F6530>]\n"
          ]
        }
      ],
      "source": [
        "print(images)\n"
      ]
    },
    {
      "cell_type": "code",
      "execution_count": null,
      "metadata": {
        "id": "mpmAMYWv04Ev"
      },
      "outputs": [],
      "source": [
        "import os\n",
        "os.mkdir( os.path.join(\"/content\", \"imags\"))"
      ]
    },
    {
      "cell_type": "code",
      "execution_count": null,
      "metadata": {
        "id": "UQxcnA1pzOyh"
      },
      "outputs": [],
      "source": [
        "import io\n",
        "import PIL.Image as Image\n",
        "import os\n",
        "\n",
        "\n",
        "for i in range(len(images)):\n",
        "  buffer = io.BytesIO()\n",
        "  images[i].save(buffer, format='PNG')\n",
        "  image_bytes = buffer.getvalue()\n",
        "  with open(f'/content/imags/image{i}.png', 'wb') as f:\n",
        "    f.write(image_bytes)\n"
      ]
    },
    {
      "cell_type": "code",
      "execution_count": null,
      "metadata": {
        "id": "CsYjNyLECMhT"
      },
      "outputs": [],
      "source": [
        "imags=[]\n",
        "for i in range(14):\n",
        "\n",
        "  imags.append(f\"/content/imags/image{i}.png\")\n"
      ]
    },
    {
      "cell_type": "code",
      "execution_count": null,
      "metadata": {
        "id": "29PB8CM7cMH8",
        "colab": {
          "base_uri": "https://localhost:8080/"
        },
        "outputId": "8d670a85-5ed7-4150-ac2c-6dd554482fed"
      },
      "outputs": [
        {
          "output_type": "stream",
          "name": "stdout",
          "text": [
            "['/content/imags/image0.png', '/content/imags/image1.png', '/content/imags/image2.png', '/content/imags/image3.png', '/content/imags/image4.png', '/content/imags/image5.png', '/content/imags/image6.png', '/content/imags/image7.png', '/content/imags/image8.png', '/content/imags/image9.png', '/content/imags/image10.png', '/content/imags/image11.png', '/content/imags/image12.png', '/content/imags/image13.png']\n"
          ]
        }
      ],
      "source": [
        "print(imags)"
      ]
    },
    {
      "cell_type": "code",
      "source": [
        "print(len(imags))"
      ],
      "metadata": {
        "colab": {
          "base_uri": "https://localhost:8080/"
        },
        "id": "PGc95Yd4FPrp",
        "outputId": "e9e4e692-21d6-4765-bf35-b8872e73c1a3"
      },
      "execution_count": null,
      "outputs": [
        {
          "output_type": "stream",
          "name": "stdout",
          "text": [
            "14\n"
          ]
        }
      ]
    },
    {
      "cell_type": "code",
      "source": [
        "import time                         #cpu not enough\n",
        "import random\n",
        "import moviepy.editor as mp\n",
        "from moviepy.editor import ImageClip, concatenate_videoclips\n",
        "import numpy as np\n",
        "clips = []\n",
        "\n",
        "def create_zooming_video(image_path, output_path, duration, resolution=(720,480)):\n",
        "    img = mp.ImageClip(image_path)\n",
        "\n",
        "    # Calculate the initial and final zoom scales\n",
        "    initial_zoom = 1.5\n",
        "    final_zoom = 1.7\n",
        "\n",
        "    # Calculate the zooming scale for each frame\n",
        "    zoom_scales = [initial_zoom + (final_zoom - initial_zoom) * t / (duration * 30) for t in range(int(duration * 30))]\n",
        "\n",
        "    # Calculate the dimensions for the cropped image\n",
        "    cropped_width = resolution[0] / final_zoom\n",
        "    cropped_height = resolution[1] / final_zoom\n",
        "\n",
        "    # Resize the image to fit the cropped dimensions\n",
        "    img = img.resize((int(cropped_width), int(cropped_height)))\n",
        "\n",
        "    # Create a list to hold each frame of the zooming animation\n",
        "    zooming_frames = []\n",
        "\n",
        "    for scale in zoom_scales:\n",
        "        frame = img.resize(scale)\n",
        "        frame = frame.set_position((\"center\", \"center\"))\n",
        "        frame = frame.set_duration(1 / 30)  # Each frame lasts 1/30 seconds\n",
        "        zooming_frames.append(frame)\n",
        "\n",
        "    # Create the zooming animation clip\n",
        "    zooming_clip = concatenate_videoclips(zooming_frames, method=\"compose\")\n",
        "\n",
        "    # Calculate position to keep the zoomed image centered\n",
        "    position = (\"center\", \"center\")\n",
        "    zooming_clip = zooming_clip.set_position(position)\n",
        "    zooming_clip = zooming_clip.set_duration(duration)\n",
        "    zooming_clip = zooming_clip.set_fps(30)\n",
        "    zooming_clip.write_videofile(output_path, codec=\"libx264\")\n",
        "    clips.append(zooming_clip)\n",
        "\n",
        "# Assuming you have defined images and la\n",
        "k=0;\n",
        "for i in range(len(la)):\n",
        "  for j in range(k,k+2):\n",
        "    timestamp = int(time.time())  # Get the current timestamp\n",
        "    random_number = random.randint(1, 10)  # Generate a random number\n",
        "    output_video = f'output_video_{timestamp}_{random_number}.mp4'\n",
        "    create_zooming_video(imags[j], output_video, la[i]/2)\n",
        "  k=j+1\n",
        "\n",
        "# Concatenate the video clips\n",
        "video_clip = concatenate_videoclips(clips, method='compose')\n",
        "\n",
        "# Write the video to a file\n",
        "video_clip.write_videofile(\"video-output.mp4\", fps=24, remove_temp=True, codec=\"libx264\", audio_codec=\"aac\")"
      ],
      "metadata": {
        "id": "nULzpfV9dxpO",
        "colab": {
          "base_uri": "https://localhost:8080/"
        },
        "outputId": "df1c3b3c-054e-47a3-bb64-77ea69305f26"
      },
      "execution_count": null,
      "outputs": [
        {
          "output_type": "stream",
          "name": "stdout",
          "text": [
            "Moviepy - Building video output_video_1702564562_4.mp4.\n",
            "Moviepy - Writing video output_video_1702564562_4.mp4\n",
            "\n"
          ]
        },
        {
          "output_type": "stream",
          "name": "stderr",
          "text": []
        },
        {
          "output_type": "stream",
          "name": "stdout",
          "text": [
            "Moviepy - Done !\n",
            "Moviepy - video ready output_video_1702564562_4.mp4\n",
            "Moviepy - Building video output_video_1702564564_4.mp4.\n",
            "Moviepy - Writing video output_video_1702564564_4.mp4\n",
            "\n"
          ]
        },
        {
          "output_type": "stream",
          "name": "stderr",
          "text": []
        },
        {
          "output_type": "stream",
          "name": "stdout",
          "text": [
            "Moviepy - Done !\n",
            "Moviepy - video ready output_video_1702564564_4.mp4\n",
            "Moviepy - Building video output_video_1702564568_8.mp4.\n",
            "Moviepy - Writing video output_video_1702564568_8.mp4\n",
            "\n"
          ]
        },
        {
          "output_type": "stream",
          "name": "stderr",
          "text": []
        },
        {
          "output_type": "stream",
          "name": "stdout",
          "text": [
            "Moviepy - Done !\n",
            "Moviepy - video ready output_video_1702564568_8.mp4\n",
            "Moviepy - Building video output_video_1702564570_6.mp4.\n",
            "Moviepy - Writing video output_video_1702564570_6.mp4\n",
            "\n"
          ]
        },
        {
          "output_type": "stream",
          "name": "stderr",
          "text": []
        },
        {
          "output_type": "stream",
          "name": "stdout",
          "text": [
            "Moviepy - Done !\n",
            "Moviepy - video ready output_video_1702564570_6.mp4\n",
            "Moviepy - Building video output_video_1702564572_4.mp4.\n",
            "Moviepy - Writing video output_video_1702564572_4.mp4\n",
            "\n"
          ]
        },
        {
          "output_type": "stream",
          "name": "stderr",
          "text": []
        },
        {
          "output_type": "stream",
          "name": "stdout",
          "text": [
            "Moviepy - Done !\n",
            "Moviepy - video ready output_video_1702564572_4.mp4\n",
            "Moviepy - Building video output_video_1702564574_2.mp4.\n",
            "Moviepy - Writing video output_video_1702564574_2.mp4\n",
            "\n"
          ]
        },
        {
          "output_type": "stream",
          "name": "stderr",
          "text": []
        },
        {
          "output_type": "stream",
          "name": "stdout",
          "text": [
            "Moviepy - Done !\n",
            "Moviepy - video ready output_video_1702564574_2.mp4\n",
            "Moviepy - Building video output_video_1702564578_9.mp4.\n",
            "Moviepy - Writing video output_video_1702564578_9.mp4\n",
            "\n"
          ]
        },
        {
          "output_type": "stream",
          "name": "stderr",
          "text": []
        },
        {
          "output_type": "stream",
          "name": "stdout",
          "text": [
            "Moviepy - Done !\n",
            "Moviepy - video ready output_video_1702564578_9.mp4\n",
            "Moviepy - Building video output_video_1702564586_2.mp4.\n",
            "Moviepy - Writing video output_video_1702564586_2.mp4\n",
            "\n"
          ]
        },
        {
          "output_type": "stream",
          "name": "stderr",
          "text": []
        },
        {
          "output_type": "stream",
          "name": "stdout",
          "text": [
            "Moviepy - Done !\n",
            "Moviepy - video ready output_video_1702564586_2.mp4\n",
            "Moviepy - Building video output_video_1702564593_6.mp4.\n",
            "Moviepy - Writing video output_video_1702564593_6.mp4\n",
            "\n"
          ]
        },
        {
          "output_type": "stream",
          "name": "stderr",
          "text": []
        },
        {
          "output_type": "stream",
          "name": "stdout",
          "text": [
            "Moviepy - Done !\n",
            "Moviepy - video ready output_video_1702564593_6.mp4\n",
            "Moviepy - Building video output_video_1702564597_7.mp4.\n",
            "Moviepy - Writing video output_video_1702564597_7.mp4\n",
            "\n"
          ]
        },
        {
          "output_type": "stream",
          "name": "stderr",
          "text": []
        },
        {
          "output_type": "stream",
          "name": "stdout",
          "text": [
            "Moviepy - Done !\n",
            "Moviepy - video ready output_video_1702564597_7.mp4\n",
            "Moviepy - Building video output_video_1702564600_5.mp4.\n",
            "Moviepy - Writing video output_video_1702564600_5.mp4\n",
            "\n"
          ]
        },
        {
          "output_type": "stream",
          "name": "stderr",
          "text": []
        },
        {
          "output_type": "stream",
          "name": "stdout",
          "text": [
            "Moviepy - Done !\n",
            "Moviepy - video ready output_video_1702564600_5.mp4\n",
            "Moviepy - Building video output_video_1702564602_8.mp4.\n",
            "Moviepy - Writing video output_video_1702564602_8.mp4\n",
            "\n"
          ]
        },
        {
          "output_type": "stream",
          "name": "stderr",
          "text": []
        },
        {
          "output_type": "stream",
          "name": "stdout",
          "text": [
            "Moviepy - Done !\n",
            "Moviepy - video ready output_video_1702564602_8.mp4\n",
            "Moviepy - Building video output_video_1702564605_6.mp4.\n",
            "Moviepy - Writing video output_video_1702564605_6.mp4\n",
            "\n"
          ]
        },
        {
          "output_type": "stream",
          "name": "stderr",
          "text": []
        },
        {
          "output_type": "stream",
          "name": "stdout",
          "text": [
            "Moviepy - Done !\n",
            "Moviepy - video ready output_video_1702564605_6.mp4\n",
            "Moviepy - Building video output_video_1702564608_1.mp4.\n",
            "Moviepy - Writing video output_video_1702564608_1.mp4\n",
            "\n"
          ]
        },
        {
          "output_type": "stream",
          "name": "stderr",
          "text": []
        },
        {
          "output_type": "stream",
          "name": "stdout",
          "text": [
            "Moviepy - Done !\n",
            "Moviepy - video ready output_video_1702564608_1.mp4\n",
            "Moviepy - Building video video-output.mp4.\n",
            "Moviepy - Writing video video-output.mp4\n",
            "\n"
          ]
        },
        {
          "output_type": "stream",
          "name": "stderr",
          "text": []
        },
        {
          "output_type": "stream",
          "name": "stdout",
          "text": [
            "Moviepy - Done !\n",
            "Moviepy - video ready video-output.mp4\n"
          ]
        }
      ]
    },
    {
      "cell_type": "code",
      "source": [],
      "metadata": {
        "id": "HrhLeY0ZsYcx"
      },
      "execution_count": null,
      "outputs": []
    },
    {
      "cell_type": "code",
      "source": [],
      "metadata": {
        "id": "6BBdJuxMoZs2"
      },
      "execution_count": null,
      "outputs": []
    },
    {
      "cell_type": "code",
      "execution_count": null,
      "metadata": {
        "colab": {
          "base_uri": "https://localhost:8080/"
        },
        "id": "oIlbWMvT2mG3",
        "outputId": "bebc4453-b8bc-4acb-8ec3-ebac17e61b09"
      },
      "outputs": [
        {
          "output_type": "stream",
          "name": "stdout",
          "text": [
            "[<moviepy.video.VideoClip.ImageClip object at 0x7ee11bcd9c00>, <moviepy.video.VideoClip.ImageClip object at 0x7ee11bcd9ba0>, <moviepy.video.VideoClip.ImageClip object at 0x7ee15cbdd660>, <moviepy.video.VideoClip.ImageClip object at 0x7ee15cbdd1b0>, <moviepy.video.VideoClip.ImageClip object at 0x7ee15cbdd240>, <moviepy.video.VideoClip.ImageClip object at 0x7ee15cbdd600>, <moviepy.video.VideoClip.ImageClip object at 0x7ee15cbdd3f0>]\n",
            "Moviepy - Building video video-output.mp4.\n",
            "Moviepy - Writing video video-output.mp4\n",
            "\n"
          ]
        },
        {
          "output_type": "stream",
          "name": "stderr",
          "text": []
        },
        {
          "output_type": "stream",
          "name": "stdout",
          "text": [
            "Moviepy - Done !\n",
            "Moviepy - video ready video-output.mp4\n"
          ]
        }
      ],
      "source": []
    },
    {
      "cell_type": "code",
      "execution_count": null,
      "metadata": {
        "id": "vhA1aoeh34XO"
      },
      "outputs": [],
      "source": []
    },
    {
      "cell_type": "code",
      "execution_count": null,
      "metadata": {
        "colab": {
          "base_uri": "https://localhost:8080/"
        },
        "id": "CS21TJnaiaf7",
        "outputId": "a9c9ee50-419e-44f8-aa8b-ecc6c4f99771"
      },
      "outputs": [
        {
          "output_type": "stream",
          "name": "stdout",
          "text": [
            "Video duration: 43.79 seconds\n"
          ]
        }
      ],
      "source": [
        "#final video length\n",
        "from moviepy.editor import VideoFileClip\n",
        "\n",
        "# Load the video clip\n",
        "video_clip = VideoFileClip(\"video-output.mp4\")\n",
        "\n",
        "# Get the duration of the video in seconds\n",
        "video_duration_seconds = video_clip.duration\n",
        "\n",
        "print(f\"Video duration: {video_duration_seconds} seconds\")\n",
        "vl=int(video_duration_seconds)\n"
      ]
    },
    {
      "cell_type": "code",
      "execution_count": null,
      "metadata": {
        "colab": {
          "base_uri": "https://localhost:8080/"
        },
        "id": "of1o8z9HiE9K",
        "outputId": "68828413-c9a8-4e1a-9a7d-acdf7b7c3b8b"
      },
      "outputs": [
        {
          "output_type": "stream",
          "name": "stdout",
          "text": [
            "43776\n"
          ]
        }
      ],
      "source": [
        "from pydub import AudioSegment #concatenate aud\n",
        "\n",
        "# Create an empty AudioSegment to store the concatenated audio\n",
        "combined_audio = AudioSegment.empty()\n",
        "\n",
        "# List of audio file paths to concatenate\n",
        "\n",
        "\n",
        "# Iterate through the list and concatenate the audio files\n",
        "for audio_file in aud:\n",
        "    audio_segment = AudioSegment.from_file(audio_file)\n",
        "    combined_audio += audio_segment\n",
        "\n",
        "# Export the concatenated audio\n",
        "combined_audio.export(\"output.mp3\", format=\"mp3\")\n",
        "print(len(combined_audio))"
      ]
    },
    {
      "cell_type": "code",
      "execution_count": null,
      "metadata": {
        "id": "B-Ho5O9fedYF",
        "colab": {
          "base_uri": "https://localhost:8080/"
        },
        "outputId": "5a3286cd-1d72-4298-f809-0125c6b0d801"
      },
      "outputs": [
        {
          "output_type": "stream",
          "name": "stdout",
          "text": [
            "Moviepy - Building video ffinal.mp4.\n",
            "MoviePy - Writing audio in ffinalTEMP_MPY_wvf_snd.mp3\n"
          ]
        },
        {
          "output_type": "stream",
          "name": "stderr",
          "text": []
        },
        {
          "output_type": "stream",
          "name": "stdout",
          "text": [
            "MoviePy - Done.\n",
            "Moviepy - Writing video ffinal.mp4\n",
            "\n"
          ]
        },
        {
          "output_type": "stream",
          "name": "stderr",
          "text": []
        },
        {
          "output_type": "stream",
          "name": "stdout",
          "text": [
            "Moviepy - Done !\n",
            "Moviepy - video ready ffinal.mp4\n"
          ]
        }
      ],
      "source": [
        "\n",
        "import cv2\n",
        "import numpy as np\n",
        "from PIL import Image\n",
        "from moviepy.editor import VideoFileClip, TextClip, CompositeVideoClip, AudioFileClip\n",
        "from moviepy.audio.fx import audio_fadein\n",
        "video_clip = VideoFileClip(\"video-output.mp4\")\n",
        "audio_clip = AudioFileClip(\"output.mp3\")\n",
        "audio_clip = audio_clip.subclip(0, video_clip.duration)\n",
        "video_clip = video_clip.set_audio(audio_clip)\n",
        "output_video_with_audio = \"ffinal.mp4\"\n",
        "video_clip.write_videofile(output_video_with_audio, codec='libx264', fps=24)\n",
        "\n"
      ]
    },
    {
      "cell_type": "markdown",
      "metadata": {
        "id": "9Hsw8X7-u8gL"
      },
      "source": []
    }
  ],
  "metadata": {
    "accelerator": "GPU",
    "colab": {
      "provenance": []
    },
    "kernelspec": {
      "display_name": "Python 3",
      "name": "python3"
    },
    "language_info": {
      "name": "python"
    },
    "widgets": {
      "application/vnd.jupyter.widget-state+json": {
        "3c3e59a4d66e4cb0ba0db229a76c1eb8": {
          "model_module": "@jupyter-widgets/controls",
          "model_name": "HBoxModel",
          "model_module_version": "1.5.0",
          "state": {
            "_dom_classes": [],
            "_model_module": "@jupyter-widgets/controls",
            "_model_module_version": "1.5.0",
            "_model_name": "HBoxModel",
            "_view_count": null,
            "_view_module": "@jupyter-widgets/controls",
            "_view_module_version": "1.5.0",
            "_view_name": "HBoxView",
            "box_style": "",
            "children": [
              "IPY_MODEL_ebfcb1d484c8482b93f4c3244a514178",
              "IPY_MODEL_0024fadae8904f62ba6010f298d26d7c",
              "IPY_MODEL_7c55632a5857427395d9be5dfbfea767"
            ],
            "layout": "IPY_MODEL_59b4276988954e8a8ba58035c4661f35"
          }
        },
        "ebfcb1d484c8482b93f4c3244a514178": {
          "model_module": "@jupyter-widgets/controls",
          "model_name": "HTMLModel",
          "model_module_version": "1.5.0",
          "state": {
            "_dom_classes": [],
            "_model_module": "@jupyter-widgets/controls",
            "_model_module_version": "1.5.0",
            "_model_name": "HTMLModel",
            "_view_count": null,
            "_view_module": "@jupyter-widgets/controls",
            "_view_module_version": "1.5.0",
            "_view_name": "HTMLView",
            "description": "",
            "description_tooltip": null,
            "layout": "IPY_MODEL_9d93e31098324172bade149bd642e98e",
            "placeholder": "​",
            "style": "IPY_MODEL_6eb3cc4235c24159b34f63dc44d88808",
            "value": "config.json: 100%"
          }
        },
        "0024fadae8904f62ba6010f298d26d7c": {
          "model_module": "@jupyter-widgets/controls",
          "model_name": "FloatProgressModel",
          "model_module_version": "1.5.0",
          "state": {
            "_dom_classes": [],
            "_model_module": "@jupyter-widgets/controls",
            "_model_module_version": "1.5.0",
            "_model_name": "FloatProgressModel",
            "_view_count": null,
            "_view_module": "@jupyter-widgets/controls",
            "_view_module_version": "1.5.0",
            "_view_name": "ProgressView",
            "bar_style": "success",
            "description": "",
            "description_tooltip": null,
            "layout": "IPY_MODEL_28f84369a9fd46f7ace228ba830f9ec3",
            "max": 1802,
            "min": 0,
            "orientation": "horizontal",
            "style": "IPY_MODEL_c88d183a836540edb61caa080324a9b0",
            "value": 1802
          }
        },
        "7c55632a5857427395d9be5dfbfea767": {
          "model_module": "@jupyter-widgets/controls",
          "model_name": "HTMLModel",
          "model_module_version": "1.5.0",
          "state": {
            "_dom_classes": [],
            "_model_module": "@jupyter-widgets/controls",
            "_model_module_version": "1.5.0",
            "_model_name": "HTMLModel",
            "_view_count": null,
            "_view_module": "@jupyter-widgets/controls",
            "_view_module_version": "1.5.0",
            "_view_name": "HTMLView",
            "description": "",
            "description_tooltip": null,
            "layout": "IPY_MODEL_f5383d1a75794474950c295262e9eb87",
            "placeholder": "​",
            "style": "IPY_MODEL_98bda44a759845119438004a43d3e230",
            "value": " 1.80k/1.80k [00:00&lt;00:00, 59.4kB/s]"
          }
        },
        "59b4276988954e8a8ba58035c4661f35": {
          "model_module": "@jupyter-widgets/base",
          "model_name": "LayoutModel",
          "model_module_version": "1.2.0",
          "state": {
            "_model_module": "@jupyter-widgets/base",
            "_model_module_version": "1.2.0",
            "_model_name": "LayoutModel",
            "_view_count": null,
            "_view_module": "@jupyter-widgets/base",
            "_view_module_version": "1.2.0",
            "_view_name": "LayoutView",
            "align_content": null,
            "align_items": null,
            "align_self": null,
            "border": null,
            "bottom": null,
            "display": null,
            "flex": null,
            "flex_flow": null,
            "grid_area": null,
            "grid_auto_columns": null,
            "grid_auto_flow": null,
            "grid_auto_rows": null,
            "grid_column": null,
            "grid_gap": null,
            "grid_row": null,
            "grid_template_areas": null,
            "grid_template_columns": null,
            "grid_template_rows": null,
            "height": null,
            "justify_content": null,
            "justify_items": null,
            "left": null,
            "margin": null,
            "max_height": null,
            "max_width": null,
            "min_height": null,
            "min_width": null,
            "object_fit": null,
            "object_position": null,
            "order": null,
            "overflow": null,
            "overflow_x": null,
            "overflow_y": null,
            "padding": null,
            "right": null,
            "top": null,
            "visibility": null,
            "width": null
          }
        },
        "9d93e31098324172bade149bd642e98e": {
          "model_module": "@jupyter-widgets/base",
          "model_name": "LayoutModel",
          "model_module_version": "1.2.0",
          "state": {
            "_model_module": "@jupyter-widgets/base",
            "_model_module_version": "1.2.0",
            "_model_name": "LayoutModel",
            "_view_count": null,
            "_view_module": "@jupyter-widgets/base",
            "_view_module_version": "1.2.0",
            "_view_name": "LayoutView",
            "align_content": null,
            "align_items": null,
            "align_self": null,
            "border": null,
            "bottom": null,
            "display": null,
            "flex": null,
            "flex_flow": null,
            "grid_area": null,
            "grid_auto_columns": null,
            "grid_auto_flow": null,
            "grid_auto_rows": null,
            "grid_column": null,
            "grid_gap": null,
            "grid_row": null,
            "grid_template_areas": null,
            "grid_template_columns": null,
            "grid_template_rows": null,
            "height": null,
            "justify_content": null,
            "justify_items": null,
            "left": null,
            "margin": null,
            "max_height": null,
            "max_width": null,
            "min_height": null,
            "min_width": null,
            "object_fit": null,
            "object_position": null,
            "order": null,
            "overflow": null,
            "overflow_x": null,
            "overflow_y": null,
            "padding": null,
            "right": null,
            "top": null,
            "visibility": null,
            "width": null
          }
        },
        "6eb3cc4235c24159b34f63dc44d88808": {
          "model_module": "@jupyter-widgets/controls",
          "model_name": "DescriptionStyleModel",
          "model_module_version": "1.5.0",
          "state": {
            "_model_module": "@jupyter-widgets/controls",
            "_model_module_version": "1.5.0",
            "_model_name": "DescriptionStyleModel",
            "_view_count": null,
            "_view_module": "@jupyter-widgets/base",
            "_view_module_version": "1.2.0",
            "_view_name": "StyleView",
            "description_width": ""
          }
        },
        "28f84369a9fd46f7ace228ba830f9ec3": {
          "model_module": "@jupyter-widgets/base",
          "model_name": "LayoutModel",
          "model_module_version": "1.2.0",
          "state": {
            "_model_module": "@jupyter-widgets/base",
            "_model_module_version": "1.2.0",
            "_model_name": "LayoutModel",
            "_view_count": null,
            "_view_module": "@jupyter-widgets/base",
            "_view_module_version": "1.2.0",
            "_view_name": "LayoutView",
            "align_content": null,
            "align_items": null,
            "align_self": null,
            "border": null,
            "bottom": null,
            "display": null,
            "flex": null,
            "flex_flow": null,
            "grid_area": null,
            "grid_auto_columns": null,
            "grid_auto_flow": null,
            "grid_auto_rows": null,
            "grid_column": null,
            "grid_gap": null,
            "grid_row": null,
            "grid_template_areas": null,
            "grid_template_columns": null,
            "grid_template_rows": null,
            "height": null,
            "justify_content": null,
            "justify_items": null,
            "left": null,
            "margin": null,
            "max_height": null,
            "max_width": null,
            "min_height": null,
            "min_width": null,
            "object_fit": null,
            "object_position": null,
            "order": null,
            "overflow": null,
            "overflow_x": null,
            "overflow_y": null,
            "padding": null,
            "right": null,
            "top": null,
            "visibility": null,
            "width": null
          }
        },
        "c88d183a836540edb61caa080324a9b0": {
          "model_module": "@jupyter-widgets/controls",
          "model_name": "ProgressStyleModel",
          "model_module_version": "1.5.0",
          "state": {
            "_model_module": "@jupyter-widgets/controls",
            "_model_module_version": "1.5.0",
            "_model_name": "ProgressStyleModel",
            "_view_count": null,
            "_view_module": "@jupyter-widgets/base",
            "_view_module_version": "1.2.0",
            "_view_name": "StyleView",
            "bar_color": null,
            "description_width": ""
          }
        },
        "f5383d1a75794474950c295262e9eb87": {
          "model_module": "@jupyter-widgets/base",
          "model_name": "LayoutModel",
          "model_module_version": "1.2.0",
          "state": {
            "_model_module": "@jupyter-widgets/base",
            "_model_module_version": "1.2.0",
            "_model_name": "LayoutModel",
            "_view_count": null,
            "_view_module": "@jupyter-widgets/base",
            "_view_module_version": "1.2.0",
            "_view_name": "LayoutView",
            "align_content": null,
            "align_items": null,
            "align_self": null,
            "border": null,
            "bottom": null,
            "display": null,
            "flex": null,
            "flex_flow": null,
            "grid_area": null,
            "grid_auto_columns": null,
            "grid_auto_flow": null,
            "grid_auto_rows": null,
            "grid_column": null,
            "grid_gap": null,
            "grid_row": null,
            "grid_template_areas": null,
            "grid_template_columns": null,
            "grid_template_rows": null,
            "height": null,
            "justify_content": null,
            "justify_items": null,
            "left": null,
            "margin": null,
            "max_height": null,
            "max_width": null,
            "min_height": null,
            "min_width": null,
            "object_fit": null,
            "object_position": null,
            "order": null,
            "overflow": null,
            "overflow_x": null,
            "overflow_y": null,
            "padding": null,
            "right": null,
            "top": null,
            "visibility": null,
            "width": null
          }
        },
        "98bda44a759845119438004a43d3e230": {
          "model_module": "@jupyter-widgets/controls",
          "model_name": "DescriptionStyleModel",
          "model_module_version": "1.5.0",
          "state": {
            "_model_module": "@jupyter-widgets/controls",
            "_model_module_version": "1.5.0",
            "_model_name": "DescriptionStyleModel",
            "_view_count": null,
            "_view_module": "@jupyter-widgets/base",
            "_view_module_version": "1.2.0",
            "_view_name": "StyleView",
            "description_width": ""
          }
        },
        "284bdcb12dc041609cf766364a75a5c0": {
          "model_module": "@jupyter-widgets/controls",
          "model_name": "HBoxModel",
          "model_module_version": "1.5.0",
          "state": {
            "_dom_classes": [],
            "_model_module": "@jupyter-widgets/controls",
            "_model_module_version": "1.5.0",
            "_model_name": "HBoxModel",
            "_view_count": null,
            "_view_module": "@jupyter-widgets/controls",
            "_view_module_version": "1.5.0",
            "_view_name": "HBoxView",
            "box_style": "",
            "children": [
              "IPY_MODEL_403177b20761411ea93f713ebdb3a67f",
              "IPY_MODEL_ddffa1a1922d4fe99c454319a0878799",
              "IPY_MODEL_ba25940968124cacad76ceed5aed49da"
            ],
            "layout": "IPY_MODEL_be1e0513920f4f6cb2541edc417c9835"
          }
        },
        "403177b20761411ea93f713ebdb3a67f": {
          "model_module": "@jupyter-widgets/controls",
          "model_name": "HTMLModel",
          "model_module_version": "1.5.0",
          "state": {
            "_dom_classes": [],
            "_model_module": "@jupyter-widgets/controls",
            "_model_module_version": "1.5.0",
            "_model_name": "HTMLModel",
            "_view_count": null,
            "_view_module": "@jupyter-widgets/controls",
            "_view_module_version": "1.5.0",
            "_view_name": "HTMLView",
            "description": "",
            "description_tooltip": null,
            "layout": "IPY_MODEL_fb33c0d4aaf2411fb6c219627c3f1644",
            "placeholder": "​",
            "style": "IPY_MODEL_a8ba55215be8478cbca7c24aed6d448e",
            "value": "pytorch_model.bin: 100%"
          }
        },
        "ddffa1a1922d4fe99c454319a0878799": {
          "model_module": "@jupyter-widgets/controls",
          "model_name": "FloatProgressModel",
          "model_module_version": "1.5.0",
          "state": {
            "_dom_classes": [],
            "_model_module": "@jupyter-widgets/controls",
            "_model_module_version": "1.5.0",
            "_model_name": "FloatProgressModel",
            "_view_count": null,
            "_view_module": "@jupyter-widgets/controls",
            "_view_module_version": "1.5.0",
            "_view_name": "ProgressView",
            "bar_style": "success",
            "description": "",
            "description_tooltip": null,
            "layout": "IPY_MODEL_b9508b99d1a24750adf567e0fd412e5f",
            "max": 1222317369,
            "min": 0,
            "orientation": "horizontal",
            "style": "IPY_MODEL_a513247311ff40ffbfc0d5499a0e4fdf",
            "value": 1222317369
          }
        },
        "ba25940968124cacad76ceed5aed49da": {
          "model_module": "@jupyter-widgets/controls",
          "model_name": "HTMLModel",
          "model_module_version": "1.5.0",
          "state": {
            "_dom_classes": [],
            "_model_module": "@jupyter-widgets/controls",
            "_model_module_version": "1.5.0",
            "_model_name": "HTMLModel",
            "_view_count": null,
            "_view_module": "@jupyter-widgets/controls",
            "_view_module_version": "1.5.0",
            "_view_name": "HTMLView",
            "description": "",
            "description_tooltip": null,
            "layout": "IPY_MODEL_d0a83f1cc6ec45d5b39149ddd1be5372",
            "placeholder": "​",
            "style": "IPY_MODEL_fefb00bb3ffe45889a7eddf2507b15d9",
            "value": " 1.22G/1.22G [00:08&lt;00:00, 81.0MB/s]"
          }
        },
        "be1e0513920f4f6cb2541edc417c9835": {
          "model_module": "@jupyter-widgets/base",
          "model_name": "LayoutModel",
          "model_module_version": "1.2.0",
          "state": {
            "_model_module": "@jupyter-widgets/base",
            "_model_module_version": "1.2.0",
            "_model_name": "LayoutModel",
            "_view_count": null,
            "_view_module": "@jupyter-widgets/base",
            "_view_module_version": "1.2.0",
            "_view_name": "LayoutView",
            "align_content": null,
            "align_items": null,
            "align_self": null,
            "border": null,
            "bottom": null,
            "display": null,
            "flex": null,
            "flex_flow": null,
            "grid_area": null,
            "grid_auto_columns": null,
            "grid_auto_flow": null,
            "grid_auto_rows": null,
            "grid_column": null,
            "grid_gap": null,
            "grid_row": null,
            "grid_template_areas": null,
            "grid_template_columns": null,
            "grid_template_rows": null,
            "height": null,
            "justify_content": null,
            "justify_items": null,
            "left": null,
            "margin": null,
            "max_height": null,
            "max_width": null,
            "min_height": null,
            "min_width": null,
            "object_fit": null,
            "object_position": null,
            "order": null,
            "overflow": null,
            "overflow_x": null,
            "overflow_y": null,
            "padding": null,
            "right": null,
            "top": null,
            "visibility": null,
            "width": null
          }
        },
        "fb33c0d4aaf2411fb6c219627c3f1644": {
          "model_module": "@jupyter-widgets/base",
          "model_name": "LayoutModel",
          "model_module_version": "1.2.0",
          "state": {
            "_model_module": "@jupyter-widgets/base",
            "_model_module_version": "1.2.0",
            "_model_name": "LayoutModel",
            "_view_count": null,
            "_view_module": "@jupyter-widgets/base",
            "_view_module_version": "1.2.0",
            "_view_name": "LayoutView",
            "align_content": null,
            "align_items": null,
            "align_self": null,
            "border": null,
            "bottom": null,
            "display": null,
            "flex": null,
            "flex_flow": null,
            "grid_area": null,
            "grid_auto_columns": null,
            "grid_auto_flow": null,
            "grid_auto_rows": null,
            "grid_column": null,
            "grid_gap": null,
            "grid_row": null,
            "grid_template_areas": null,
            "grid_template_columns": null,
            "grid_template_rows": null,
            "height": null,
            "justify_content": null,
            "justify_items": null,
            "left": null,
            "margin": null,
            "max_height": null,
            "max_width": null,
            "min_height": null,
            "min_width": null,
            "object_fit": null,
            "object_position": null,
            "order": null,
            "overflow": null,
            "overflow_x": null,
            "overflow_y": null,
            "padding": null,
            "right": null,
            "top": null,
            "visibility": null,
            "width": null
          }
        },
        "a8ba55215be8478cbca7c24aed6d448e": {
          "model_module": "@jupyter-widgets/controls",
          "model_name": "DescriptionStyleModel",
          "model_module_version": "1.5.0",
          "state": {
            "_model_module": "@jupyter-widgets/controls",
            "_model_module_version": "1.5.0",
            "_model_name": "DescriptionStyleModel",
            "_view_count": null,
            "_view_module": "@jupyter-widgets/base",
            "_view_module_version": "1.2.0",
            "_view_name": "StyleView",
            "description_width": ""
          }
        },
        "b9508b99d1a24750adf567e0fd412e5f": {
          "model_module": "@jupyter-widgets/base",
          "model_name": "LayoutModel",
          "model_module_version": "1.2.0",
          "state": {
            "_model_module": "@jupyter-widgets/base",
            "_model_module_version": "1.2.0",
            "_model_name": "LayoutModel",
            "_view_count": null,
            "_view_module": "@jupyter-widgets/base",
            "_view_module_version": "1.2.0",
            "_view_name": "LayoutView",
            "align_content": null,
            "align_items": null,
            "align_self": null,
            "border": null,
            "bottom": null,
            "display": null,
            "flex": null,
            "flex_flow": null,
            "grid_area": null,
            "grid_auto_columns": null,
            "grid_auto_flow": null,
            "grid_auto_rows": null,
            "grid_column": null,
            "grid_gap": null,
            "grid_row": null,
            "grid_template_areas": null,
            "grid_template_columns": null,
            "grid_template_rows": null,
            "height": null,
            "justify_content": null,
            "justify_items": null,
            "left": null,
            "margin": null,
            "max_height": null,
            "max_width": null,
            "min_height": null,
            "min_width": null,
            "object_fit": null,
            "object_position": null,
            "order": null,
            "overflow": null,
            "overflow_x": null,
            "overflow_y": null,
            "padding": null,
            "right": null,
            "top": null,
            "visibility": null,
            "width": null
          }
        },
        "a513247311ff40ffbfc0d5499a0e4fdf": {
          "model_module": "@jupyter-widgets/controls",
          "model_name": "ProgressStyleModel",
          "model_module_version": "1.5.0",
          "state": {
            "_model_module": "@jupyter-widgets/controls",
            "_model_module_version": "1.5.0",
            "_model_name": "ProgressStyleModel",
            "_view_count": null,
            "_view_module": "@jupyter-widgets/base",
            "_view_module_version": "1.2.0",
            "_view_name": "StyleView",
            "bar_color": null,
            "description_width": ""
          }
        },
        "d0a83f1cc6ec45d5b39149ddd1be5372": {
          "model_module": "@jupyter-widgets/base",
          "model_name": "LayoutModel",
          "model_module_version": "1.2.0",
          "state": {
            "_model_module": "@jupyter-widgets/base",
            "_model_module_version": "1.2.0",
            "_model_name": "LayoutModel",
            "_view_count": null,
            "_view_module": "@jupyter-widgets/base",
            "_view_module_version": "1.2.0",
            "_view_name": "LayoutView",
            "align_content": null,
            "align_items": null,
            "align_self": null,
            "border": null,
            "bottom": null,
            "display": null,
            "flex": null,
            "flex_flow": null,
            "grid_area": null,
            "grid_auto_columns": null,
            "grid_auto_flow": null,
            "grid_auto_rows": null,
            "grid_column": null,
            "grid_gap": null,
            "grid_row": null,
            "grid_template_areas": null,
            "grid_template_columns": null,
            "grid_template_rows": null,
            "height": null,
            "justify_content": null,
            "justify_items": null,
            "left": null,
            "margin": null,
            "max_height": null,
            "max_width": null,
            "min_height": null,
            "min_width": null,
            "object_fit": null,
            "object_position": null,
            "order": null,
            "overflow": null,
            "overflow_x": null,
            "overflow_y": null,
            "padding": null,
            "right": null,
            "top": null,
            "visibility": null,
            "width": null
          }
        },
        "fefb00bb3ffe45889a7eddf2507b15d9": {
          "model_module": "@jupyter-widgets/controls",
          "model_name": "DescriptionStyleModel",
          "model_module_version": "1.5.0",
          "state": {
            "_model_module": "@jupyter-widgets/controls",
            "_model_module_version": "1.5.0",
            "_model_name": "DescriptionStyleModel",
            "_view_count": null,
            "_view_module": "@jupyter-widgets/base",
            "_view_module_version": "1.2.0",
            "_view_name": "StyleView",
            "description_width": ""
          }
        },
        "f62f885f010d416890d5f2371d0abb8a": {
          "model_module": "@jupyter-widgets/controls",
          "model_name": "HBoxModel",
          "model_module_version": "1.5.0",
          "state": {
            "_dom_classes": [],
            "_model_module": "@jupyter-widgets/controls",
            "_model_module_version": "1.5.0",
            "_model_name": "HBoxModel",
            "_view_count": null,
            "_view_module": "@jupyter-widgets/controls",
            "_view_module_version": "1.5.0",
            "_view_name": "HBoxView",
            "box_style": "",
            "children": [
              "IPY_MODEL_a061eda08b87456a9c52e62d64bd5717",
              "IPY_MODEL_90d97cf415584b168a9d0c256590a9e9",
              "IPY_MODEL_3df9179bc79742dd8db743289ca22d5d"
            ],
            "layout": "IPY_MODEL_ff1a5f013479405a9dd2e3d2079e47f3"
          }
        },
        "a061eda08b87456a9c52e62d64bd5717": {
          "model_module": "@jupyter-widgets/controls",
          "model_name": "HTMLModel",
          "model_module_version": "1.5.0",
          "state": {
            "_dom_classes": [],
            "_model_module": "@jupyter-widgets/controls",
            "_model_module_version": "1.5.0",
            "_model_name": "HTMLModel",
            "_view_count": null,
            "_view_module": "@jupyter-widgets/controls",
            "_view_module_version": "1.5.0",
            "_view_name": "HTMLView",
            "description": "",
            "description_tooltip": null,
            "layout": "IPY_MODEL_e6ae9294ed9447e7bbc3da7e7d56f3c0",
            "placeholder": "​",
            "style": "IPY_MODEL_db296e2a5bf444159e37c8b87b21a078",
            "value": "tokenizer_config.json: 100%"
          }
        },
        "90d97cf415584b168a9d0c256590a9e9": {
          "model_module": "@jupyter-widgets/controls",
          "model_name": "FloatProgressModel",
          "model_module_version": "1.5.0",
          "state": {
            "_dom_classes": [],
            "_model_module": "@jupyter-widgets/controls",
            "_model_module_version": "1.5.0",
            "_model_name": "FloatProgressModel",
            "_view_count": null,
            "_view_module": "@jupyter-widgets/controls",
            "_view_module_version": "1.5.0",
            "_view_name": "ProgressView",
            "bar_style": "success",
            "description": "",
            "description_tooltip": null,
            "layout": "IPY_MODEL_a2015020683744f3bff66c1809a195a0",
            "max": 26,
            "min": 0,
            "orientation": "horizontal",
            "style": "IPY_MODEL_deb6fda4f49e4052ad736691edd49bda",
            "value": 26
          }
        },
        "3df9179bc79742dd8db743289ca22d5d": {
          "model_module": "@jupyter-widgets/controls",
          "model_name": "HTMLModel",
          "model_module_version": "1.5.0",
          "state": {
            "_dom_classes": [],
            "_model_module": "@jupyter-widgets/controls",
            "_model_module_version": "1.5.0",
            "_model_name": "HTMLModel",
            "_view_count": null,
            "_view_module": "@jupyter-widgets/controls",
            "_view_module_version": "1.5.0",
            "_view_name": "HTMLView",
            "description": "",
            "description_tooltip": null,
            "layout": "IPY_MODEL_3b79c495321540e38b92a23e35b081d6",
            "placeholder": "​",
            "style": "IPY_MODEL_a77cfb15dbd3494295dfa1ea3a1e0bc9",
            "value": " 26.0/26.0 [00:00&lt;00:00, 872B/s]"
          }
        },
        "ff1a5f013479405a9dd2e3d2079e47f3": {
          "model_module": "@jupyter-widgets/base",
          "model_name": "LayoutModel",
          "model_module_version": "1.2.0",
          "state": {
            "_model_module": "@jupyter-widgets/base",
            "_model_module_version": "1.2.0",
            "_model_name": "LayoutModel",
            "_view_count": null,
            "_view_module": "@jupyter-widgets/base",
            "_view_module_version": "1.2.0",
            "_view_name": "LayoutView",
            "align_content": null,
            "align_items": null,
            "align_self": null,
            "border": null,
            "bottom": null,
            "display": null,
            "flex": null,
            "flex_flow": null,
            "grid_area": null,
            "grid_auto_columns": null,
            "grid_auto_flow": null,
            "grid_auto_rows": null,
            "grid_column": null,
            "grid_gap": null,
            "grid_row": null,
            "grid_template_areas": null,
            "grid_template_columns": null,
            "grid_template_rows": null,
            "height": null,
            "justify_content": null,
            "justify_items": null,
            "left": null,
            "margin": null,
            "max_height": null,
            "max_width": null,
            "min_height": null,
            "min_width": null,
            "object_fit": null,
            "object_position": null,
            "order": null,
            "overflow": null,
            "overflow_x": null,
            "overflow_y": null,
            "padding": null,
            "right": null,
            "top": null,
            "visibility": null,
            "width": null
          }
        },
        "e6ae9294ed9447e7bbc3da7e7d56f3c0": {
          "model_module": "@jupyter-widgets/base",
          "model_name": "LayoutModel",
          "model_module_version": "1.2.0",
          "state": {
            "_model_module": "@jupyter-widgets/base",
            "_model_module_version": "1.2.0",
            "_model_name": "LayoutModel",
            "_view_count": null,
            "_view_module": "@jupyter-widgets/base",
            "_view_module_version": "1.2.0",
            "_view_name": "LayoutView",
            "align_content": null,
            "align_items": null,
            "align_self": null,
            "border": null,
            "bottom": null,
            "display": null,
            "flex": null,
            "flex_flow": null,
            "grid_area": null,
            "grid_auto_columns": null,
            "grid_auto_flow": null,
            "grid_auto_rows": null,
            "grid_column": null,
            "grid_gap": null,
            "grid_row": null,
            "grid_template_areas": null,
            "grid_template_columns": null,
            "grid_template_rows": null,
            "height": null,
            "justify_content": null,
            "justify_items": null,
            "left": null,
            "margin": null,
            "max_height": null,
            "max_width": null,
            "min_height": null,
            "min_width": null,
            "object_fit": null,
            "object_position": null,
            "order": null,
            "overflow": null,
            "overflow_x": null,
            "overflow_y": null,
            "padding": null,
            "right": null,
            "top": null,
            "visibility": null,
            "width": null
          }
        },
        "db296e2a5bf444159e37c8b87b21a078": {
          "model_module": "@jupyter-widgets/controls",
          "model_name": "DescriptionStyleModel",
          "model_module_version": "1.5.0",
          "state": {
            "_model_module": "@jupyter-widgets/controls",
            "_model_module_version": "1.5.0",
            "_model_name": "DescriptionStyleModel",
            "_view_count": null,
            "_view_module": "@jupyter-widgets/base",
            "_view_module_version": "1.2.0",
            "_view_name": "StyleView",
            "description_width": ""
          }
        },
        "a2015020683744f3bff66c1809a195a0": {
          "model_module": "@jupyter-widgets/base",
          "model_name": "LayoutModel",
          "model_module_version": "1.2.0",
          "state": {
            "_model_module": "@jupyter-widgets/base",
            "_model_module_version": "1.2.0",
            "_model_name": "LayoutModel",
            "_view_count": null,
            "_view_module": "@jupyter-widgets/base",
            "_view_module_version": "1.2.0",
            "_view_name": "LayoutView",
            "align_content": null,
            "align_items": null,
            "align_self": null,
            "border": null,
            "bottom": null,
            "display": null,
            "flex": null,
            "flex_flow": null,
            "grid_area": null,
            "grid_auto_columns": null,
            "grid_auto_flow": null,
            "grid_auto_rows": null,
            "grid_column": null,
            "grid_gap": null,
            "grid_row": null,
            "grid_template_areas": null,
            "grid_template_columns": null,
            "grid_template_rows": null,
            "height": null,
            "justify_content": null,
            "justify_items": null,
            "left": null,
            "margin": null,
            "max_height": null,
            "max_width": null,
            "min_height": null,
            "min_width": null,
            "object_fit": null,
            "object_position": null,
            "order": null,
            "overflow": null,
            "overflow_x": null,
            "overflow_y": null,
            "padding": null,
            "right": null,
            "top": null,
            "visibility": null,
            "width": null
          }
        },
        "deb6fda4f49e4052ad736691edd49bda": {
          "model_module": "@jupyter-widgets/controls",
          "model_name": "ProgressStyleModel",
          "model_module_version": "1.5.0",
          "state": {
            "_model_module": "@jupyter-widgets/controls",
            "_model_module_version": "1.5.0",
            "_model_name": "ProgressStyleModel",
            "_view_count": null,
            "_view_module": "@jupyter-widgets/base",
            "_view_module_version": "1.2.0",
            "_view_name": "StyleView",
            "bar_color": null,
            "description_width": ""
          }
        },
        "3b79c495321540e38b92a23e35b081d6": {
          "model_module": "@jupyter-widgets/base",
          "model_name": "LayoutModel",
          "model_module_version": "1.2.0",
          "state": {
            "_model_module": "@jupyter-widgets/base",
            "_model_module_version": "1.2.0",
            "_model_name": "LayoutModel",
            "_view_count": null,
            "_view_module": "@jupyter-widgets/base",
            "_view_module_version": "1.2.0",
            "_view_name": "LayoutView",
            "align_content": null,
            "align_items": null,
            "align_self": null,
            "border": null,
            "bottom": null,
            "display": null,
            "flex": null,
            "flex_flow": null,
            "grid_area": null,
            "grid_auto_columns": null,
            "grid_auto_flow": null,
            "grid_auto_rows": null,
            "grid_column": null,
            "grid_gap": null,
            "grid_row": null,
            "grid_template_areas": null,
            "grid_template_columns": null,
            "grid_template_rows": null,
            "height": null,
            "justify_content": null,
            "justify_items": null,
            "left": null,
            "margin": null,
            "max_height": null,
            "max_width": null,
            "min_height": null,
            "min_width": null,
            "object_fit": null,
            "object_position": null,
            "order": null,
            "overflow": null,
            "overflow_x": null,
            "overflow_y": null,
            "padding": null,
            "right": null,
            "top": null,
            "visibility": null,
            "width": null
          }
        },
        "a77cfb15dbd3494295dfa1ea3a1e0bc9": {
          "model_module": "@jupyter-widgets/controls",
          "model_name": "DescriptionStyleModel",
          "model_module_version": "1.5.0",
          "state": {
            "_model_module": "@jupyter-widgets/controls",
            "_model_module_version": "1.5.0",
            "_model_name": "DescriptionStyleModel",
            "_view_count": null,
            "_view_module": "@jupyter-widgets/base",
            "_view_module_version": "1.2.0",
            "_view_name": "StyleView",
            "description_width": ""
          }
        },
        "8a77286f7b6e4e238e16c4c0a1a59973": {
          "model_module": "@jupyter-widgets/controls",
          "model_name": "HBoxModel",
          "model_module_version": "1.5.0",
          "state": {
            "_dom_classes": [],
            "_model_module": "@jupyter-widgets/controls",
            "_model_module_version": "1.5.0",
            "_model_name": "HBoxModel",
            "_view_count": null,
            "_view_module": "@jupyter-widgets/controls",
            "_view_module_version": "1.5.0",
            "_view_name": "HBoxView",
            "box_style": "",
            "children": [
              "IPY_MODEL_056737ddb15c4640a5413465c9cb0d40",
              "IPY_MODEL_5b77a2158bda4f5b853391cf9d863b99",
              "IPY_MODEL_4f925eb887754ff7b582e3cd6885c970"
            ],
            "layout": "IPY_MODEL_39726c313bce4b4791677fe768d13372"
          }
        },
        "056737ddb15c4640a5413465c9cb0d40": {
          "model_module": "@jupyter-widgets/controls",
          "model_name": "HTMLModel",
          "model_module_version": "1.5.0",
          "state": {
            "_dom_classes": [],
            "_model_module": "@jupyter-widgets/controls",
            "_model_module_version": "1.5.0",
            "_model_name": "HTMLModel",
            "_view_count": null,
            "_view_module": "@jupyter-widgets/controls",
            "_view_module_version": "1.5.0",
            "_view_name": "HTMLView",
            "description": "",
            "description_tooltip": null,
            "layout": "IPY_MODEL_4cd5a042dd554f08a886a23f5650d531",
            "placeholder": "​",
            "style": "IPY_MODEL_c697b4c86ae74d56b46c64be0b7e9ec9",
            "value": "vocab.json: 100%"
          }
        },
        "5b77a2158bda4f5b853391cf9d863b99": {
          "model_module": "@jupyter-widgets/controls",
          "model_name": "FloatProgressModel",
          "model_module_version": "1.5.0",
          "state": {
            "_dom_classes": [],
            "_model_module": "@jupyter-widgets/controls",
            "_model_module_version": "1.5.0",
            "_model_name": "FloatProgressModel",
            "_view_count": null,
            "_view_module": "@jupyter-widgets/controls",
            "_view_module_version": "1.5.0",
            "_view_name": "ProgressView",
            "bar_style": "success",
            "description": "",
            "description_tooltip": null,
            "layout": "IPY_MODEL_7f52fda5227d4bc6b6c0dcd50923f416",
            "max": 898822,
            "min": 0,
            "orientation": "horizontal",
            "style": "IPY_MODEL_e5037fa99928462fbf06a7835018e2e4",
            "value": 898822
          }
        },
        "4f925eb887754ff7b582e3cd6885c970": {
          "model_module": "@jupyter-widgets/controls",
          "model_name": "HTMLModel",
          "model_module_version": "1.5.0",
          "state": {
            "_dom_classes": [],
            "_model_module": "@jupyter-widgets/controls",
            "_model_module_version": "1.5.0",
            "_model_name": "HTMLModel",
            "_view_count": null,
            "_view_module": "@jupyter-widgets/controls",
            "_view_module_version": "1.5.0",
            "_view_name": "HTMLView",
            "description": "",
            "description_tooltip": null,
            "layout": "IPY_MODEL_369e9a86d73b4bb296d5bc013ae1ac19",
            "placeholder": "​",
            "style": "IPY_MODEL_fb940a6c7c444bab91f1db3de3d9c83f",
            "value": " 899k/899k [00:00&lt;00:00, 6.74MB/s]"
          }
        },
        "39726c313bce4b4791677fe768d13372": {
          "model_module": "@jupyter-widgets/base",
          "model_name": "LayoutModel",
          "model_module_version": "1.2.0",
          "state": {
            "_model_module": "@jupyter-widgets/base",
            "_model_module_version": "1.2.0",
            "_model_name": "LayoutModel",
            "_view_count": null,
            "_view_module": "@jupyter-widgets/base",
            "_view_module_version": "1.2.0",
            "_view_name": "LayoutView",
            "align_content": null,
            "align_items": null,
            "align_self": null,
            "border": null,
            "bottom": null,
            "display": null,
            "flex": null,
            "flex_flow": null,
            "grid_area": null,
            "grid_auto_columns": null,
            "grid_auto_flow": null,
            "grid_auto_rows": null,
            "grid_column": null,
            "grid_gap": null,
            "grid_row": null,
            "grid_template_areas": null,
            "grid_template_columns": null,
            "grid_template_rows": null,
            "height": null,
            "justify_content": null,
            "justify_items": null,
            "left": null,
            "margin": null,
            "max_height": null,
            "max_width": null,
            "min_height": null,
            "min_width": null,
            "object_fit": null,
            "object_position": null,
            "order": null,
            "overflow": null,
            "overflow_x": null,
            "overflow_y": null,
            "padding": null,
            "right": null,
            "top": null,
            "visibility": null,
            "width": null
          }
        },
        "4cd5a042dd554f08a886a23f5650d531": {
          "model_module": "@jupyter-widgets/base",
          "model_name": "LayoutModel",
          "model_module_version": "1.2.0",
          "state": {
            "_model_module": "@jupyter-widgets/base",
            "_model_module_version": "1.2.0",
            "_model_name": "LayoutModel",
            "_view_count": null,
            "_view_module": "@jupyter-widgets/base",
            "_view_module_version": "1.2.0",
            "_view_name": "LayoutView",
            "align_content": null,
            "align_items": null,
            "align_self": null,
            "border": null,
            "bottom": null,
            "display": null,
            "flex": null,
            "flex_flow": null,
            "grid_area": null,
            "grid_auto_columns": null,
            "grid_auto_flow": null,
            "grid_auto_rows": null,
            "grid_column": null,
            "grid_gap": null,
            "grid_row": null,
            "grid_template_areas": null,
            "grid_template_columns": null,
            "grid_template_rows": null,
            "height": null,
            "justify_content": null,
            "justify_items": null,
            "left": null,
            "margin": null,
            "max_height": null,
            "max_width": null,
            "min_height": null,
            "min_width": null,
            "object_fit": null,
            "object_position": null,
            "order": null,
            "overflow": null,
            "overflow_x": null,
            "overflow_y": null,
            "padding": null,
            "right": null,
            "top": null,
            "visibility": null,
            "width": null
          }
        },
        "c697b4c86ae74d56b46c64be0b7e9ec9": {
          "model_module": "@jupyter-widgets/controls",
          "model_name": "DescriptionStyleModel",
          "model_module_version": "1.5.0",
          "state": {
            "_model_module": "@jupyter-widgets/controls",
            "_model_module_version": "1.5.0",
            "_model_name": "DescriptionStyleModel",
            "_view_count": null,
            "_view_module": "@jupyter-widgets/base",
            "_view_module_version": "1.2.0",
            "_view_name": "StyleView",
            "description_width": ""
          }
        },
        "7f52fda5227d4bc6b6c0dcd50923f416": {
          "model_module": "@jupyter-widgets/base",
          "model_name": "LayoutModel",
          "model_module_version": "1.2.0",
          "state": {
            "_model_module": "@jupyter-widgets/base",
            "_model_module_version": "1.2.0",
            "_model_name": "LayoutModel",
            "_view_count": null,
            "_view_module": "@jupyter-widgets/base",
            "_view_module_version": "1.2.0",
            "_view_name": "LayoutView",
            "align_content": null,
            "align_items": null,
            "align_self": null,
            "border": null,
            "bottom": null,
            "display": null,
            "flex": null,
            "flex_flow": null,
            "grid_area": null,
            "grid_auto_columns": null,
            "grid_auto_flow": null,
            "grid_auto_rows": null,
            "grid_column": null,
            "grid_gap": null,
            "grid_row": null,
            "grid_template_areas": null,
            "grid_template_columns": null,
            "grid_template_rows": null,
            "height": null,
            "justify_content": null,
            "justify_items": null,
            "left": null,
            "margin": null,
            "max_height": null,
            "max_width": null,
            "min_height": null,
            "min_width": null,
            "object_fit": null,
            "object_position": null,
            "order": null,
            "overflow": null,
            "overflow_x": null,
            "overflow_y": null,
            "padding": null,
            "right": null,
            "top": null,
            "visibility": null,
            "width": null
          }
        },
        "e5037fa99928462fbf06a7835018e2e4": {
          "model_module": "@jupyter-widgets/controls",
          "model_name": "ProgressStyleModel",
          "model_module_version": "1.5.0",
          "state": {
            "_model_module": "@jupyter-widgets/controls",
            "_model_module_version": "1.5.0",
            "_model_name": "ProgressStyleModel",
            "_view_count": null,
            "_view_module": "@jupyter-widgets/base",
            "_view_module_version": "1.2.0",
            "_view_name": "StyleView",
            "bar_color": null,
            "description_width": ""
          }
        },
        "369e9a86d73b4bb296d5bc013ae1ac19": {
          "model_module": "@jupyter-widgets/base",
          "model_name": "LayoutModel",
          "model_module_version": "1.2.0",
          "state": {
            "_model_module": "@jupyter-widgets/base",
            "_model_module_version": "1.2.0",
            "_model_name": "LayoutModel",
            "_view_count": null,
            "_view_module": "@jupyter-widgets/base",
            "_view_module_version": "1.2.0",
            "_view_name": "LayoutView",
            "align_content": null,
            "align_items": null,
            "align_self": null,
            "border": null,
            "bottom": null,
            "display": null,
            "flex": null,
            "flex_flow": null,
            "grid_area": null,
            "grid_auto_columns": null,
            "grid_auto_flow": null,
            "grid_auto_rows": null,
            "grid_column": null,
            "grid_gap": null,
            "grid_row": null,
            "grid_template_areas": null,
            "grid_template_columns": null,
            "grid_template_rows": null,
            "height": null,
            "justify_content": null,
            "justify_items": null,
            "left": null,
            "margin": null,
            "max_height": null,
            "max_width": null,
            "min_height": null,
            "min_width": null,
            "object_fit": null,
            "object_position": null,
            "order": null,
            "overflow": null,
            "overflow_x": null,
            "overflow_y": null,
            "padding": null,
            "right": null,
            "top": null,
            "visibility": null,
            "width": null
          }
        },
        "fb940a6c7c444bab91f1db3de3d9c83f": {
          "model_module": "@jupyter-widgets/controls",
          "model_name": "DescriptionStyleModel",
          "model_module_version": "1.5.0",
          "state": {
            "_model_module": "@jupyter-widgets/controls",
            "_model_module_version": "1.5.0",
            "_model_name": "DescriptionStyleModel",
            "_view_count": null,
            "_view_module": "@jupyter-widgets/base",
            "_view_module_version": "1.2.0",
            "_view_name": "StyleView",
            "description_width": ""
          }
        },
        "3eb9b73b764240c2a73f15f79d226c6f": {
          "model_module": "@jupyter-widgets/controls",
          "model_name": "HBoxModel",
          "model_module_version": "1.5.0",
          "state": {
            "_dom_classes": [],
            "_model_module": "@jupyter-widgets/controls",
            "_model_module_version": "1.5.0",
            "_model_name": "HBoxModel",
            "_view_count": null,
            "_view_module": "@jupyter-widgets/controls",
            "_view_module_version": "1.5.0",
            "_view_name": "HBoxView",
            "box_style": "",
            "children": [
              "IPY_MODEL_d2ef02cab4ba4db29a85d84c7d207d10",
              "IPY_MODEL_87c3b76825a8427fbce957f0e741acc3",
              "IPY_MODEL_1a847c02218040b3bac33ef5b2db3199"
            ],
            "layout": "IPY_MODEL_ea6da11efa3747548a8db1e292cdba6b"
          }
        },
        "d2ef02cab4ba4db29a85d84c7d207d10": {
          "model_module": "@jupyter-widgets/controls",
          "model_name": "HTMLModel",
          "model_module_version": "1.5.0",
          "state": {
            "_dom_classes": [],
            "_model_module": "@jupyter-widgets/controls",
            "_model_module_version": "1.5.0",
            "_model_name": "HTMLModel",
            "_view_count": null,
            "_view_module": "@jupyter-widgets/controls",
            "_view_module_version": "1.5.0",
            "_view_name": "HTMLView",
            "description": "",
            "description_tooltip": null,
            "layout": "IPY_MODEL_bb03b630e17c4db895e932182865f196",
            "placeholder": "​",
            "style": "IPY_MODEL_239034c7d79f46edbf755b3de1f067da",
            "value": "merges.txt: 100%"
          }
        },
        "87c3b76825a8427fbce957f0e741acc3": {
          "model_module": "@jupyter-widgets/controls",
          "model_name": "FloatProgressModel",
          "model_module_version": "1.5.0",
          "state": {
            "_dom_classes": [],
            "_model_module": "@jupyter-widgets/controls",
            "_model_module_version": "1.5.0",
            "_model_name": "FloatProgressModel",
            "_view_count": null,
            "_view_module": "@jupyter-widgets/controls",
            "_view_module_version": "1.5.0",
            "_view_name": "ProgressView",
            "bar_style": "success",
            "description": "",
            "description_tooltip": null,
            "layout": "IPY_MODEL_2c55e6f08411430c83babba09795db29",
            "max": 456318,
            "min": 0,
            "orientation": "horizontal",
            "style": "IPY_MODEL_e069556aeede49cbbed4b121a6f3bf67",
            "value": 456318
          }
        },
        "1a847c02218040b3bac33ef5b2db3199": {
          "model_module": "@jupyter-widgets/controls",
          "model_name": "HTMLModel",
          "model_module_version": "1.5.0",
          "state": {
            "_dom_classes": [],
            "_model_module": "@jupyter-widgets/controls",
            "_model_module_version": "1.5.0",
            "_model_name": "HTMLModel",
            "_view_count": null,
            "_view_module": "@jupyter-widgets/controls",
            "_view_module_version": "1.5.0",
            "_view_name": "HTMLView",
            "description": "",
            "description_tooltip": null,
            "layout": "IPY_MODEL_a998efc97eb2422ca60450bb9f58aba8",
            "placeholder": "​",
            "style": "IPY_MODEL_3ebab1711f04427486d10655d90f02f7",
            "value": " 456k/456k [00:00&lt;00:00, 6.75MB/s]"
          }
        },
        "ea6da11efa3747548a8db1e292cdba6b": {
          "model_module": "@jupyter-widgets/base",
          "model_name": "LayoutModel",
          "model_module_version": "1.2.0",
          "state": {
            "_model_module": "@jupyter-widgets/base",
            "_model_module_version": "1.2.0",
            "_model_name": "LayoutModel",
            "_view_count": null,
            "_view_module": "@jupyter-widgets/base",
            "_view_module_version": "1.2.0",
            "_view_name": "LayoutView",
            "align_content": null,
            "align_items": null,
            "align_self": null,
            "border": null,
            "bottom": null,
            "display": null,
            "flex": null,
            "flex_flow": null,
            "grid_area": null,
            "grid_auto_columns": null,
            "grid_auto_flow": null,
            "grid_auto_rows": null,
            "grid_column": null,
            "grid_gap": null,
            "grid_row": null,
            "grid_template_areas": null,
            "grid_template_columns": null,
            "grid_template_rows": null,
            "height": null,
            "justify_content": null,
            "justify_items": null,
            "left": null,
            "margin": null,
            "max_height": null,
            "max_width": null,
            "min_height": null,
            "min_width": null,
            "object_fit": null,
            "object_position": null,
            "order": null,
            "overflow": null,
            "overflow_x": null,
            "overflow_y": null,
            "padding": null,
            "right": null,
            "top": null,
            "visibility": null,
            "width": null
          }
        },
        "bb03b630e17c4db895e932182865f196": {
          "model_module": "@jupyter-widgets/base",
          "model_name": "LayoutModel",
          "model_module_version": "1.2.0",
          "state": {
            "_model_module": "@jupyter-widgets/base",
            "_model_module_version": "1.2.0",
            "_model_name": "LayoutModel",
            "_view_count": null,
            "_view_module": "@jupyter-widgets/base",
            "_view_module_version": "1.2.0",
            "_view_name": "LayoutView",
            "align_content": null,
            "align_items": null,
            "align_self": null,
            "border": null,
            "bottom": null,
            "display": null,
            "flex": null,
            "flex_flow": null,
            "grid_area": null,
            "grid_auto_columns": null,
            "grid_auto_flow": null,
            "grid_auto_rows": null,
            "grid_column": null,
            "grid_gap": null,
            "grid_row": null,
            "grid_template_areas": null,
            "grid_template_columns": null,
            "grid_template_rows": null,
            "height": null,
            "justify_content": null,
            "justify_items": null,
            "left": null,
            "margin": null,
            "max_height": null,
            "max_width": null,
            "min_height": null,
            "min_width": null,
            "object_fit": null,
            "object_position": null,
            "order": null,
            "overflow": null,
            "overflow_x": null,
            "overflow_y": null,
            "padding": null,
            "right": null,
            "top": null,
            "visibility": null,
            "width": null
          }
        },
        "239034c7d79f46edbf755b3de1f067da": {
          "model_module": "@jupyter-widgets/controls",
          "model_name": "DescriptionStyleModel",
          "model_module_version": "1.5.0",
          "state": {
            "_model_module": "@jupyter-widgets/controls",
            "_model_module_version": "1.5.0",
            "_model_name": "DescriptionStyleModel",
            "_view_count": null,
            "_view_module": "@jupyter-widgets/base",
            "_view_module_version": "1.2.0",
            "_view_name": "StyleView",
            "description_width": ""
          }
        },
        "2c55e6f08411430c83babba09795db29": {
          "model_module": "@jupyter-widgets/base",
          "model_name": "LayoutModel",
          "model_module_version": "1.2.0",
          "state": {
            "_model_module": "@jupyter-widgets/base",
            "_model_module_version": "1.2.0",
            "_model_name": "LayoutModel",
            "_view_count": null,
            "_view_module": "@jupyter-widgets/base",
            "_view_module_version": "1.2.0",
            "_view_name": "LayoutView",
            "align_content": null,
            "align_items": null,
            "align_self": null,
            "border": null,
            "bottom": null,
            "display": null,
            "flex": null,
            "flex_flow": null,
            "grid_area": null,
            "grid_auto_columns": null,
            "grid_auto_flow": null,
            "grid_auto_rows": null,
            "grid_column": null,
            "grid_gap": null,
            "grid_row": null,
            "grid_template_areas": null,
            "grid_template_columns": null,
            "grid_template_rows": null,
            "height": null,
            "justify_content": null,
            "justify_items": null,
            "left": null,
            "margin": null,
            "max_height": null,
            "max_width": null,
            "min_height": null,
            "min_width": null,
            "object_fit": null,
            "object_position": null,
            "order": null,
            "overflow": null,
            "overflow_x": null,
            "overflow_y": null,
            "padding": null,
            "right": null,
            "top": null,
            "visibility": null,
            "width": null
          }
        },
        "e069556aeede49cbbed4b121a6f3bf67": {
          "model_module": "@jupyter-widgets/controls",
          "model_name": "ProgressStyleModel",
          "model_module_version": "1.5.0",
          "state": {
            "_model_module": "@jupyter-widgets/controls",
            "_model_module_version": "1.5.0",
            "_model_name": "ProgressStyleModel",
            "_view_count": null,
            "_view_module": "@jupyter-widgets/base",
            "_view_module_version": "1.2.0",
            "_view_name": "StyleView",
            "bar_color": null,
            "description_width": ""
          }
        },
        "a998efc97eb2422ca60450bb9f58aba8": {
          "model_module": "@jupyter-widgets/base",
          "model_name": "LayoutModel",
          "model_module_version": "1.2.0",
          "state": {
            "_model_module": "@jupyter-widgets/base",
            "_model_module_version": "1.2.0",
            "_model_name": "LayoutModel",
            "_view_count": null,
            "_view_module": "@jupyter-widgets/base",
            "_view_module_version": "1.2.0",
            "_view_name": "LayoutView",
            "align_content": null,
            "align_items": null,
            "align_self": null,
            "border": null,
            "bottom": null,
            "display": null,
            "flex": null,
            "flex_flow": null,
            "grid_area": null,
            "grid_auto_columns": null,
            "grid_auto_flow": null,
            "grid_auto_rows": null,
            "grid_column": null,
            "grid_gap": null,
            "grid_row": null,
            "grid_template_areas": null,
            "grid_template_columns": null,
            "grid_template_rows": null,
            "height": null,
            "justify_content": null,
            "justify_items": null,
            "left": null,
            "margin": null,
            "max_height": null,
            "max_width": null,
            "min_height": null,
            "min_width": null,
            "object_fit": null,
            "object_position": null,
            "order": null,
            "overflow": null,
            "overflow_x": null,
            "overflow_y": null,
            "padding": null,
            "right": null,
            "top": null,
            "visibility": null,
            "width": null
          }
        },
        "3ebab1711f04427486d10655d90f02f7": {
          "model_module": "@jupyter-widgets/controls",
          "model_name": "DescriptionStyleModel",
          "model_module_version": "1.5.0",
          "state": {
            "_model_module": "@jupyter-widgets/controls",
            "_model_module_version": "1.5.0",
            "_model_name": "DescriptionStyleModel",
            "_view_count": null,
            "_view_module": "@jupyter-widgets/base",
            "_view_module_version": "1.2.0",
            "_view_name": "StyleView",
            "description_width": ""
          }
        }
      }
    }
  },
  "nbformat": 4,
  "nbformat_minor": 0
}